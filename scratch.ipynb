{
 "cells": [
  {
   "cell_type": "code",
   "execution_count": 1,
   "metadata": {},
   "outputs": [
    {
     "name": "stderr",
     "output_type": "stream",
     "text": [
      "<frozen importlib._bootstrap>:219: RuntimeWarning: scipy._lib.messagestream.MessageStream size changed, may indicate binary incompatibility. Expected 56 from C header, got 64 from PyObject\n"
     ]
    }
   ],
   "source": [
    "import os\n",
    "import sys\n",
    "\n",
    "import numpy as np\n",
    "import h5py\n",
    "import matplotlib.pyplot as plt\n",
    "from skimage import io, transform\n",
    "from rich.progress import track\n",
    "from pystackreg import StackReg\n",
    "import imageio\n",
    "\n",
    "sys.path.insert(0, \"D:/Research/scripts/paraview_analysis/\")\n",
    "import support as sp\n",
    "import gif\n",
    "\n",
    "folder = \"D:/Research/Ta_AM-Spalled/Data/3D/\"\n"
   ]
  },
  {
   "cell_type": "code",
   "execution_count": null,
   "metadata": {},
   "outputs": [],
   "source": [
    "bse_folder = os.path.join(folder, \"BSE/\")\n",
    "key_f = lambda x: int(x.replace(\".tif\", \"\").replace(\"Slice\", \"\").replace(bse_folder, \"\"))\n",
    "bse_paths = os.listdir(bse_folder)\n",
    "paths = sorted([os.path.join(bse_folder, path) for path in bse_paths if \".tif\" in path], key=key_f)\n",
    "# bse = np.array([io.imread(path, as_gray=True) for path in paths])\n",
    "bse = io.imread(paths[0], as_gray=True)\n",
    "dy = 4050\n",
    "dx = 4212\n",
    "slice_y = slice(int(bse.shape[0] / 2 - dy / 2) - 23, int(bse.shape[0] / 2 + dy / 2) - 23)\n",
    "slice_x = slice(int(bse.shape[1] / 2 - dx / 2) + 100, int(bse.shape[1] / 2 + dx / 2) + 100)\n"
   ]
  },
  {
   "cell_type": "code",
   "execution_count": null,
   "metadata": {},
   "outputs": [],
   "source": [
    "global_shift = 0\n",
    "for i in range(len(paths)):\n",
    "    im = io.imread(paths[i], as_gray=True)\n",
    "    if i+1 > 212:\n",
    "        out = np.zeros(im.shape, dtype=im.dtype)\n",
    "        out[:, 355:] = im[:, :-355]\n",
    "    else:\n",
    "        out = im\n",
    "    if i % 4 == 0:\n",
    "        global_shift += 1\n",
    "    if global_shift > 0:\n",
    "        out[:, :-global_shift] = out[:, global_shift:]\n",
    "    imageio.imsave(f\"D:/Research/Ta_AM-Spalled/Data/3D/BSE/cropped/{i+1}.tiff\", out[slice_y, slice_x])"
   ]
  },
  {
   "cell_type": "code",
   "execution_count": 4,
   "metadata": {},
   "outputs": [
    {
     "name": "stdout",
     "output_type": "stream",
     "text": [
      "(675, 702)\n"
     ]
    }
   ],
   "source": [
    "ebsd_shape = h5py.File(os.path.join(folder, \"Ta_AM-Spalled_aligned.dream3d\"))[\"DataContainers/ImageDataContainer/CellData/Image Quality\"].shape[1:3]\n",
    "print(ebsd_shape)\n",
    "\n",
    "bse_folder = os.path.join(folder, \"BSE/cropped/\")\n",
    "key_f = lambda x: int(x.replace(\".tiff\", \"\").replace(bse_folder, \"\"))\n",
    "bse_paths = os.listdir(bse_folder)\n",
    "paths = sorted([os.path.join(bse_folder, path) for path in bse_paths if \".tiff\" in path], key=key_f)\n",
    "\n",
    "for i in range(len(paths)):\n",
    "    raw = io.imread(paths[i], as_gray=True)\n",
    "    d = transform.resize(raw, ebsd_shape)\n",
    "    d = np.around(65535 * d/d.max(), 0).astype(np.uint16)\n",
    "    imageio.imsave(os.path.join(folder, f\"BSE/small/{i}.tiff\"), d, format=\"TIFF\")\n"
   ]
  },
  {
   "cell_type": "code",
   "execution_count": null,
   "metadata": {},
   "outputs": [],
   "source": []
  }
 ],
 "metadata": {
  "interpreter": {
   "hash": "bae949bf087381c8ce0fa9405840674882b3a34444159d01dc6ba97d3db4b3a2"
  },
  "kernelspec": {
   "display_name": "Python 3.8.10 ('DREAM3D')",
   "language": "python",
   "name": "python3"
  },
  "language_info": {
   "codemirror_mode": {
    "name": "ipython",
    "version": 3
   },
   "file_extension": ".py",
   "mimetype": "text/x-python",
   "name": "python",
   "nbconvert_exporter": "python",
   "pygments_lexer": "ipython3",
   "version": "3.8.10"
  },
  "orig_nbformat": 4
 },
 "nbformat": 4,
 "nbformat_minor": 2
}
