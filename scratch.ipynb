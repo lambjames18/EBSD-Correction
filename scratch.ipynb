{
 "cells": [
  {
   "cell_type": "code",
   "execution_count": null,
   "metadata": {},
   "outputs": [],
   "source": [
    "import numpy as np\n",
    "import h5py\n",
    "from skimage import io, transform\n",
    "import matplotlib.pyplot as plt\n",
    "from rich.progress import track\n",
    "from rich.jupyter import print\n",
    "%matplotlib widget\n",
    "\n",
    "import core"
   ]
  },
  {
   "cell_type": "code",
   "execution_count": null,
   "metadata": {},
   "outputs": [],
   "source": [
    "try:\n",
    "    h5.close()\n",
    "except:\n",
    "    pass\n",
    "h5 = h5py.File(\"D:/Research/CoNi_16/Data/3D/test.dream3d\", \"r+\")\n",
    "align = core.Alignment(\"Slice420_CoNi16/ctr_pts_bse.txt\", \"Slice420_CoNi16/ctr_pts_ebsd.txt\", \"TPS\")\n",
    "align.import_solution(\"Slice420_CoNi16/TPS_mapping.npy\", \"Slice420_CoNi16/bse.tif\")\n",
    "cell_str = \"DataContainers/ImageDataContainer/CellData\""
   ]
  },
  {
   "cell_type": "code",
   "execution_count": null,
   "metadata": {},
   "outputs": [],
   "source": [
    "for key in h5[cell_str].keys():\n",
    "    data = h5[cell_str][key][...]\n",
    "    for i in range(h5[cell_str][key].shape[-1]):\n",
    "        for z in range(h5[cell_str][key].shape[0]):\n",
    "            h5[cell_str][key][z,:-1,10:,i] = align.apply(h5[cell_str][key][z,:-1,10:,i], out=\"array\")\n",
    "            if z%10 == 0:\n",
    "                print(f\"Correcting {key} dimension {i}: {z}/{h5[cell_str][key].shape[0]-1}\\r\", end=\"\", flush=True)\n",
    "        print(\"\\n\")"
   ]
  },
  {
   "cell_type": "code",
   "execution_count": null,
   "metadata": {},
   "outputs": [],
   "source": [
    "plt.imshow(h5[cell_str][\"SEM\"][100,:,:,0])\n",
    "plt.show()"
   ]
  },
  {
   "cell_type": "code",
   "execution_count": null,
   "metadata": {},
   "outputs": [],
   "source": [
    "h5.close()"
   ]
  },
  {
   "cell_type": "code",
   "execution_count": null,
   "metadata": {},
   "outputs": [],
   "source": []
  }
 ],
 "metadata": {
  "interpreter": {
   "hash": "bae949bf087381c8ce0fa9405840674882b3a34444159d01dc6ba97d3db4b3a2"
  },
  "kernelspec": {
   "display_name": "Python 3.8.10 ('DREAM3D')",
   "language": "python",
   "name": "python3"
  },
  "language_info": {
   "codemirror_mode": {
    "name": "ipython",
    "version": 3
   },
   "file_extension": ".py",
   "mimetype": "text/x-python",
   "name": "python",
   "nbconvert_exporter": "python",
   "pygments_lexer": "ipython3",
   "version": "3.8.10"
  },
  "orig_nbformat": 4
 },
 "nbformat": 4,
 "nbformat_minor": 2
}
