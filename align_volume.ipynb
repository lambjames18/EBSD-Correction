{
 "cells": [
  {
   "cell_type": "markdown",
   "metadata": {},
   "source": [
    "\n",
    "# Indices of the BSE crop:\n",
    "\n",
    "***Original shape: $(2048, 3072)$***\n",
    "\n",
    "    - X (columns)\n",
    "        - Total crop width: dx = 2220 \n",
    "        - slice(476, 2696)\n",
    "    - Y (rows)\n",
    "        - Total crop height: dy = 1665\n",
    "        - slice(175, 1840)\n",
    "\n",
    "Once this crop is complete, a resize transform was applied through ***scikit-image*** to get to a target size of $(483, 644)$\n",
    "\n",
    "# Indices of the EBSD crop:\n",
    "\n",
    "***Original shape: $(484,654)$***\n",
    "\n",
    "    - X (columns)\n",
    "        - Total crop width: dx = 644\n",
    "        - slice(10, None)\n",
    "    - Y (rows)\n",
    "        - Total crop height: dy = 483\n",
    "        - slice(None, -1)\n",
    "\n",
    "\n",
    "___\n",
    "___"
   ]
  },
  {
   "cell_type": "code",
   "execution_count": null,
   "metadata": {},
   "outputs": [],
   "source": [
    "import numpy as np\n",
    "import matplotlib.pyplot as plt\n",
    "import h5py\n",
    "from skimage import io, transform, exposure\n",
    "%matplotlib widget\n",
    "\n",
    "import core\n",
    "\n",
    "def generate_gif(array):\n",
    "    fig = plt.figure()\n",
    "    im = plt.imshow(numpy_3d_array[0, :, :],\n",
    "                    animated=True,\n",
    "                    cmap='turbo',\n",
    "                    vmin=array.min(),\n",
    "                    vmax=array.max())\n",
    "    def init():\n",
    "        im.set_data(array[0, :, :])\n",
    "        return im,\n",
    "    def animate(i):\n",
    "        im.set_array(array[i, :, :])\n",
    "        return im,\n",
    "    anim = animation.FuncAnimation(fig,\n",
    "                                   animate,\n",
    "                                   init_func=init,\n",
    "                                   frames=array.shape[0],\n",
    "                                   interval=200,\n",
    "                                   blit=True)\n",
    "    # anim.save(\"test.gif\")\n",
    "    plt.colorbar(label='turbo', shrink=0.75)\n",
    "    plt.tight_layout()\n",
    "    plt.show()"
   ]
  },
  {
   "cell_type": "code",
   "execution_count": null,
   "metadata": {},
   "outputs": [],
   "source": [
    "h5 = h5py.File(\"D:/Research/CoNi_16/Data/3D/CoNi16_aligned.dream3d\", 'r')\n",
    "data = h5[\"DataContainers/ImageDataContainer/CellData/SEM\"][:,:,:,0]\n",
    "h5.close()\n",
    "ebsd = io.imread(\"Slice420_CoNi16/ebsd.tif\")\n",
    "# EBSD CROP: remove last row (0:-1) and remove first 10 columns (10:)\n",
    "data = data[:, :-1, 10:]\n",
    "print(data.shape, ebsd.shape)"
   ]
  },
  {
   "cell_type": "code",
   "execution_count": null,
   "metadata": {},
   "outputs": [],
   "source": [
    "plt.close()\n",
    "bse_full = io.imread(\"Slice420_CoNi16/aligned_0039.tif\", as_gray=True)\n",
    "bse_full = np.around(255*bse_full/bse_full.max(), 0).astype(np.uint8)\n",
    "bse_resized = io.imread(\"Slice420_CoNi16/bse.tif\")\n",
    "\n",
    "y_selected = 175\n",
    "x_selected = None\n",
    "dx = 2224\n",
    "dy = int(dx*0.75)\n",
    "\n",
    "if x_selected is None:\n",
    "    start_x = np.arange(350, bse_full.shape[1] - dx - 350, 1, dtype=int)\n",
    "    start_y = np.ones(start_x.shape[0], dtype=int)*y_selected\n",
    "else:\n",
    "    start_y = np.arange(100, bse_full.shape[0] - dy - 100, 1, dtype=int)\n",
    "    start_x = np.ones(start_y.shape[0], dtype=int)*x_selected\n",
    "\n",
    "diffs = []\n",
    "slices_x = []\n",
    "slices_y = []\n",
    "for i in range(start_x.shape[0]):\n",
    "    slx = slice(start_x[i], start_x[i]+dx)\n",
    "    sly = slice(start_y[i], start_y[i]+dy)\n",
    "    bse_full_crop = bse_full[sly, slx]\n",
    "    bse_adjusted = transform.resize(bse_full_crop, ebsd.shape, anti_aliasing=False)\n",
    "    # bse_adjusted = bse_adjusted.astype(np.uint8)\n",
    "    bse_adjusted = np.around(255*bse_adjusted/bse_adjusted.max(), 0).astype(np.uint8)\n",
    "    true = bse_resized[:200, :200]\n",
    "    alt = bse_adjusted[:200, :200]\n",
    "    slices_x.append(slx)\n",
    "    slices_y.append(sly)\n",
    "    diffs.append(abs(np.sum(true-alt)))\n",
    "diffs = np.array(diffs)\n",
    "slices_x = np.array(slices_x)\n",
    "slices_y = np.array(slices_y)"
   ]
  },
  {
   "cell_type": "code",
   "execution_count": null,
   "metadata": {},
   "outputs": [],
   "source": [
    "i = diffs.argmin()\n",
    "print(f\"Mininum:\\n  x->{slices_x[i]}\\n  end->{slices_y[i]}\\n  val->{diffs[i]}\")\n",
    "dx = 2220\n",
    "dy = int(dx*0.75)\n",
    "sly = slice(175, 175+dy)\n",
    "slx = slice(476, 476+dx)#slices_x[i]\n",
    "\n",
    "best = transform.resize(bse_full[sly, slx], ebsd.shape, anti_aliasing=True)\n",
    "best = np.around(255*best/best.max(), 0).astype(np.uint8)"
   ]
  },
  {
   "cell_type": "code",
   "execution_count": null,
   "metadata": {},
   "outputs": [],
   "source": [
    "plt.close(\"all\")\n",
    "if x_selected is None:\n",
    "    x_vals = start_x\n",
    "else:\n",
    "    x_vals = start_y\n",
    "fig = plt.figure(figsize=(17,4))\n",
    "ax1 = fig.add_subplot(131)\n",
    "ax2 = fig.add_subplot(132)\n",
    "ax3 = fig.add_subplot(133)\n",
    "ax1.imshow(best, aspect=\"auto\")\n",
    "ax1.set_title(\"Output\")\n",
    "ax2.imshow(bse_resized, aspect=\"auto\")\n",
    "ax2.set_title(\"Target\")\n",
    "ax3.imshow(bse_resized - best, aspect=\"auto\")\n",
    "ax3.set_title(\"Difference\")\n",
    "plt.tight_layout()\n",
    "# plt.show()"
   ]
  },
  {
   "cell_type": "code",
   "execution_count": null,
   "metadata": {},
   "outputs": [],
   "source": []
  }
 ],
 "metadata": {
  "interpreter": {
   "hash": "bae949bf087381c8ce0fa9405840674882b3a34444159d01dc6ba97d3db4b3a2"
  },
  "kernelspec": {
   "display_name": "Python 3.8.10 ('DREAM3D')",
   "language": "python",
   "name": "python3"
  },
  "language_info": {
   "codemirror_mode": {
    "name": "ipython",
    "version": 3
   },
   "file_extension": ".py",
   "mimetype": "text/x-python",
   "name": "python",
   "nbconvert_exporter": "python",
   "pygments_lexer": "ipython3",
   "version": "3.8.10"
  },
  "orig_nbformat": 4
 },
 "nbformat": 4,
 "nbformat_minor": 2
}
